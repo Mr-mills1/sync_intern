{
 "cells": [
  {
   "cell_type": "markdown",
   "id": "7dfbedec",
   "metadata": {},
   "source": [
    "# TASK 1<br>SYNC INTERNSHIP MAY 2023<br>CREATING A CHATBOT"
   ]
  },
  {
   "cell_type": "markdown",
   "id": "3c66d0c8",
   "metadata": {},
   "source": [
    "***Using python to build a chatbot***"
   ]
  },
  {
   "cell_type": "code",
   "execution_count": 1,
   "id": "d6312983",
   "metadata": {},
   "outputs": [
    {
     "name": "stderr",
     "output_type": "stream",
     "text": [
      "C:\\Users\\HP\\anaconda3\\lib\\site-packages\\scipy\\__init__.py:146: UserWarning: A NumPy version >=1.16.5 and <1.23.0 is required for this version of SciPy (detected version 1.23.5\n",
      "  warnings.warn(f\"A NumPy version >={np_minversion} and <{np_maxversion}\"\n"
     ]
    }
   ],
   "source": [
    "# import the needed libraries\n",
    "import nltk\n",
    "from nltk.chat.util import Chat, reflections"
   ]
  },
  {
   "cell_type": "code",
   "execution_count": 2,
   "id": "b01a1fd4",
   "metadata": {},
   "outputs": [
    {
     "data": {
      "text/plain": [
       "{'i am': 'you are',\n",
       " 'i was': 'you were',\n",
       " 'i': 'you',\n",
       " \"i'm\": 'you are',\n",
       " \"i'd\": 'you would',\n",
       " \"i've\": 'you have',\n",
       " \"i'll\": 'you will',\n",
       " 'my': 'your',\n",
       " 'you are': 'I am',\n",
       " 'you were': 'I was',\n",
       " \"you've\": 'I have',\n",
       " \"you'll\": 'I will',\n",
       " 'your': 'my',\n",
       " 'yours': 'mine',\n",
       " 'you': 'me',\n",
       " 'me': 'you'}"
      ]
     },
     "execution_count": 2,
     "metadata": {},
     "output_type": "execute_result"
    }
   ],
   "source": [
    "# check reflections\n",
    "reflections"
   ]
  },
  {
   "cell_type": "code",
   "execution_count": 9,
   "id": "404129e9",
   "metadata": {},
   "outputs": [],
   "source": [
    "# we define a set of pairs that map user inputs to chatbot responses\n",
    "pairs = [    ['hello!', ['Hi!', 'Hello!',]],\n",
    "         ['Good day', ['how may i help you?',]],\n",
    "         ['what is your name?',['i am mr. Vaish from Microsioft India',]],\n",
    "    ['my phone is not connecting', ['your phone has a sim card failure',]],\n",
    "    ['ok then, what do i do?', ['kindly visit our office nearest to you',]],\n",
    "         ['how do i know your office?',['please tell me your location or GPS coordinate...so i can recommend one for you sir',]],\n",
    "         ['thank you very much sir',['you are very much welcome',]],\n",
    "    ['bye', ['Goodbye! and have a nice day!', 'Bye!', 'See you later.']]\n",
    "]"
   ]
  },
  {
   "cell_type": "code",
   "execution_count": 10,
   "id": "62293a1f",
   "metadata": {},
   "outputs": [],
   "source": [
    "# create a Chat object using these pairs and the reflections library\n",
    "chatbot = Chat(pairs, reflections)"
   ]
  },
  {
   "cell_type": "code",
   "execution_count": null,
   "id": "c4f5411e",
   "metadata": {},
   "outputs": [
    {
     "name": "stdout",
     "output_type": "stream",
     "text": [
      ">hello\n",
      "None\n",
      ">Good day\n",
      "how may i help you?\n",
      ">what is your name?\n",
      "i am mr. Vaish from Microsioft India\n",
      ">good day\n",
      "how may i help you?\n",
      ">my phone is not connecting\n",
      "your phone has a sim card failure\n"
     ]
    }
   ],
   "source": [
    "# call the converse() method to start the chatbot\n",
    "chatbot.converse()"
   ]
  },
  {
   "cell_type": "code",
   "execution_count": null,
   "id": "6f2c1cff",
   "metadata": {},
   "outputs": [],
   "source": []
  }
 ],
 "metadata": {
  "kernelspec": {
   "display_name": "Python 3 (ipykernel)",
   "language": "python",
   "name": "python3"
  },
  "language_info": {
   "codemirror_mode": {
    "name": "ipython",
    "version": 3
   },
   "file_extension": ".py",
   "mimetype": "text/x-python",
   "name": "python",
   "nbconvert_exporter": "python",
   "pygments_lexer": "ipython3",
   "version": "3.9.12"
  }
 },
 "nbformat": 4,
 "nbformat_minor": 5
}
